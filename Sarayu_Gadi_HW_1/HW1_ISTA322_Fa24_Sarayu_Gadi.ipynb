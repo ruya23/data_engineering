{
  "nbformat": 4,
  "nbformat_minor": 0,
  "metadata": {
    "colab": {
      "provenance": []
    },
    "kernelspec": {
      "display_name": "Python 3",
      "language": "python",
      "name": "python3"
    }
  },
  "cells": [
    {
      "cell_type": "markdown",
      "metadata": {
        "id": "NC8f7soL0uZJ"
      },
      "source": [
        "# ISTA 322 Homework 1\n",
        "\n",
        "Welcome to your first homework!  This one is focused on just practicing some of the exercises covered in the last coding lesson.  There are also some more open-ended questions with elements that I didn't demonstrate in that lesson... they're structurally similar, but you might need to google a thing or two to figure out the correction function.  \n",
        "\n",
        "You need to add your own code blocks to answer any of the coding questions.  Also, at the end of some sections I have a 'questions' section.  Add a text cell right below and enter your answers."
      ]
    },
    {
      "cell_type": "markdown",
      "source": [
        "#Submission Instructions\n",
        "\n",
        "1) First create a copy of this notebook in your drive and rename it so that it contains the course number (ISTA322), the semester (Sp22 for Spring 2022, Su22 for Summer 2022, and Fa22 for Fall 2022), the assigment code (HW1 for this assignment) and your name.\n",
        "\n",
        "    e.g. my copy for Spring 2023 would be ISTA_322_Sp23_HW1_dan_charbonneau)\n",
        "\n",
        "2) When you are ready to submit. Prepare three files: the python file (File->Download->Download .py), the notebook file (File->Download->Download .ipynb), and **PDF** version of your notebook (**after running all cells**).\n",
        "Note: you can take a screenshot and create the pdf out of them.\n",
        "\n",
        "3) Create a new directory named firstname_lastname_hw1 (e.g my directory would be dan_charbonneau_hw1) put all three files in it. Compress (Zip) the folder you created with the files inside of it and submit this .zip file to D2L\n",
        "\n",
        "**incorrect filenames or submission formats will result in a loss of 50% of your grade**"
      ],
      "metadata": {
        "id": "7j_NSultJDMy"
      }
    },
    {
      "cell_type": "markdown",
      "metadata": {
        "id": "Zw99uzuT1vLk"
      },
      "source": [
        "## Loading and Importing\n",
        "\n",
        "First thing you need to do is load up your packages and then bring in the data.  \n",
        "\n",
        "This dataset contains daily values for Amazon's stock.  This includes opening, closing, high price, low price, and also the amount of stock traded."
      ]
    },
    {
      "cell_type": "code",
      "metadata": {
        "id": "qSPHhsZlyowG"
      },
      "source": [
        "import pandas as pd\n",
        "# also import matplotlib.pyplot and numpy with the proper aliases\n",
        "import numpy as np\n",
        "import matplotlib.pyplot as plt\n"
      ],
      "execution_count": 140,
      "outputs": []
    },
    {
      "cell_type": "code",
      "metadata": {
        "id": "tvgt5t51yaKN"
      },
      "source": [
        "# Bring in your data. You just need to run this cell.\n",
        "price = pd.read_csv(\"https://docs.google.com/spreadsheets/d/1lCkFZhz-NGTuE1ZilzJA_ZYBZsbCSDpS2MllyGZWjX4/gviz/tq?tqx=out:csv\")"
      ],
      "execution_count": 141,
      "outputs": []
    },
    {
      "cell_type": "markdown",
      "metadata": {
        "id": "bZCHUmA72PvI"
      },
      "source": [
        "## Exploring the whole dataset\n",
        "\n",
        "Now make some code cells to explore the whole dataset.  I want you to do the following:\n",
        "\n",
        "- Get the number of rows and columns\n",
        "- Get the datatypes of each column\n",
        "- Look at the first five rows\n",
        "- Look at the last five rows\n",
        "- Look at summary statistics"
      ]
    },
    {
      "cell_type": "code",
      "source": [
        "# Obtaining the number of rows and columns\n",
        "price.shape"
      ],
      "metadata": {
        "colab": {
          "base_uri": "https://localhost:8080/"
        },
        "id": "V96j9Ja59VBd",
        "outputId": "e0d9714a-13e1-4f7a-a6a1-a00a93d5e335"
      },
      "execution_count": 142,
      "outputs": [
        {
          "output_type": "execute_result",
          "data": {
            "text/plain": [
              "(5852, 7)"
            ]
          },
          "metadata": {},
          "execution_count": 142
        }
      ]
    },
    {
      "cell_type": "code",
      "source": [
        "# Obtaining the datatypes of every column\n",
        "price.dtypes"
      ],
      "metadata": {
        "colab": {
          "base_uri": "https://localhost:8080/",
          "height": 304
        },
        "id": "tDLJ_T3o9pKR",
        "outputId": "ed63a83d-ebd3-4165-db29-8940e1104e67"
      },
      "execution_count": 143,
      "outputs": [
        {
          "output_type": "execute_result",
          "data": {
            "text/plain": [
              "Date          object\n",
              "Open         float64\n",
              "High         float64\n",
              "Low          float64\n",
              "Close        float64\n",
              "Adj Close    float64\n",
              "Volume         int64\n",
              "dtype: object"
            ],
            "text/html": [
              "<div>\n",
              "<style scoped>\n",
              "    .dataframe tbody tr th:only-of-type {\n",
              "        vertical-align: middle;\n",
              "    }\n",
              "\n",
              "    .dataframe tbody tr th {\n",
              "        vertical-align: top;\n",
              "    }\n",
              "\n",
              "    .dataframe thead th {\n",
              "        text-align: right;\n",
              "    }\n",
              "</style>\n",
              "<table border=\"1\" class=\"dataframe\">\n",
              "  <thead>\n",
              "    <tr style=\"text-align: right;\">\n",
              "      <th></th>\n",
              "      <th>0</th>\n",
              "    </tr>\n",
              "  </thead>\n",
              "  <tbody>\n",
              "    <tr>\n",
              "      <th>Date</th>\n",
              "      <td>object</td>\n",
              "    </tr>\n",
              "    <tr>\n",
              "      <th>Open</th>\n",
              "      <td>float64</td>\n",
              "    </tr>\n",
              "    <tr>\n",
              "      <th>High</th>\n",
              "      <td>float64</td>\n",
              "    </tr>\n",
              "    <tr>\n",
              "      <th>Low</th>\n",
              "      <td>float64</td>\n",
              "    </tr>\n",
              "    <tr>\n",
              "      <th>Close</th>\n",
              "      <td>float64</td>\n",
              "    </tr>\n",
              "    <tr>\n",
              "      <th>Adj Close</th>\n",
              "      <td>float64</td>\n",
              "    </tr>\n",
              "    <tr>\n",
              "      <th>Volume</th>\n",
              "      <td>int64</td>\n",
              "    </tr>\n",
              "  </tbody>\n",
              "</table>\n",
              "</div><br><label><b>dtype:</b> object</label>"
            ]
          },
          "metadata": {},
          "execution_count": 143
        }
      ]
    },
    {
      "cell_type": "code",
      "source": [
        " # First 5 rows\n",
        " price.head()"
      ],
      "metadata": {
        "colab": {
          "base_uri": "https://localhost:8080/",
          "height": 206
        },
        "id": "mmvKJ3Y09xxO",
        "outputId": "e4e7de16-5d14-419b-e23a-a89025db9068"
      },
      "execution_count": 144,
      "outputs": [
        {
          "output_type": "execute_result",
          "data": {
            "text/plain": [
              "         Date      Open      High       Low     Close  Adj Close    Volume\n",
              "0  1997-05-15  2.437500  2.500000  1.927083  1.958333   1.958333  72156000\n",
              "1  1997-05-16  1.968750  1.979167  1.708333  1.729167   1.729167  14700000\n",
              "2  1997-05-19  1.760417  1.770833  1.625000  1.708333   1.708333   6106800\n",
              "3  1997-05-20  1.729167  1.750000  1.635417  1.635417   1.635417   5467200\n",
              "4  1997-05-21  1.635417  1.645833  1.375000  1.427083   1.427083  18853200"
            ],
            "text/html": [
              "\n",
              "  <div id=\"df-c4cbc36e-9487-47c7-a180-decd09dc9aa1\" class=\"colab-df-container\">\n",
              "    <div>\n",
              "<style scoped>\n",
              "    .dataframe tbody tr th:only-of-type {\n",
              "        vertical-align: middle;\n",
              "    }\n",
              "\n",
              "    .dataframe tbody tr th {\n",
              "        vertical-align: top;\n",
              "    }\n",
              "\n",
              "    .dataframe thead th {\n",
              "        text-align: right;\n",
              "    }\n",
              "</style>\n",
              "<table border=\"1\" class=\"dataframe\">\n",
              "  <thead>\n",
              "    <tr style=\"text-align: right;\">\n",
              "      <th></th>\n",
              "      <th>Date</th>\n",
              "      <th>Open</th>\n",
              "      <th>High</th>\n",
              "      <th>Low</th>\n",
              "      <th>Close</th>\n",
              "      <th>Adj Close</th>\n",
              "      <th>Volume</th>\n",
              "    </tr>\n",
              "  </thead>\n",
              "  <tbody>\n",
              "    <tr>\n",
              "      <th>0</th>\n",
              "      <td>1997-05-15</td>\n",
              "      <td>2.437500</td>\n",
              "      <td>2.500000</td>\n",
              "      <td>1.927083</td>\n",
              "      <td>1.958333</td>\n",
              "      <td>1.958333</td>\n",
              "      <td>72156000</td>\n",
              "    </tr>\n",
              "    <tr>\n",
              "      <th>1</th>\n",
              "      <td>1997-05-16</td>\n",
              "      <td>1.968750</td>\n",
              "      <td>1.979167</td>\n",
              "      <td>1.708333</td>\n",
              "      <td>1.729167</td>\n",
              "      <td>1.729167</td>\n",
              "      <td>14700000</td>\n",
              "    </tr>\n",
              "    <tr>\n",
              "      <th>2</th>\n",
              "      <td>1997-05-19</td>\n",
              "      <td>1.760417</td>\n",
              "      <td>1.770833</td>\n",
              "      <td>1.625000</td>\n",
              "      <td>1.708333</td>\n",
              "      <td>1.708333</td>\n",
              "      <td>6106800</td>\n",
              "    </tr>\n",
              "    <tr>\n",
              "      <th>3</th>\n",
              "      <td>1997-05-20</td>\n",
              "      <td>1.729167</td>\n",
              "      <td>1.750000</td>\n",
              "      <td>1.635417</td>\n",
              "      <td>1.635417</td>\n",
              "      <td>1.635417</td>\n",
              "      <td>5467200</td>\n",
              "    </tr>\n",
              "    <tr>\n",
              "      <th>4</th>\n",
              "      <td>1997-05-21</td>\n",
              "      <td>1.635417</td>\n",
              "      <td>1.645833</td>\n",
              "      <td>1.375000</td>\n",
              "      <td>1.427083</td>\n",
              "      <td>1.427083</td>\n",
              "      <td>18853200</td>\n",
              "    </tr>\n",
              "  </tbody>\n",
              "</table>\n",
              "</div>\n",
              "    <div class=\"colab-df-buttons\">\n",
              "\n",
              "  <div class=\"colab-df-container\">\n",
              "    <button class=\"colab-df-convert\" onclick=\"convertToInteractive('df-c4cbc36e-9487-47c7-a180-decd09dc9aa1')\"\n",
              "            title=\"Convert this dataframe to an interactive table.\"\n",
              "            style=\"display:none;\">\n",
              "\n",
              "  <svg xmlns=\"http://www.w3.org/2000/svg\" height=\"24px\" viewBox=\"0 -960 960 960\">\n",
              "    <path d=\"M120-120v-720h720v720H120Zm60-500h600v-160H180v160Zm220 220h160v-160H400v160Zm0 220h160v-160H400v160ZM180-400h160v-160H180v160Zm440 0h160v-160H620v160ZM180-180h160v-160H180v160Zm440 0h160v-160H620v160Z\"/>\n",
              "  </svg>\n",
              "    </button>\n",
              "\n",
              "  <style>\n",
              "    .colab-df-container {\n",
              "      display:flex;\n",
              "      gap: 12px;\n",
              "    }\n",
              "\n",
              "    .colab-df-convert {\n",
              "      background-color: #E8F0FE;\n",
              "      border: none;\n",
              "      border-radius: 50%;\n",
              "      cursor: pointer;\n",
              "      display: none;\n",
              "      fill: #1967D2;\n",
              "      height: 32px;\n",
              "      padding: 0 0 0 0;\n",
              "      width: 32px;\n",
              "    }\n",
              "\n",
              "    .colab-df-convert:hover {\n",
              "      background-color: #E2EBFA;\n",
              "      box-shadow: 0px 1px 2px rgba(60, 64, 67, 0.3), 0px 1px 3px 1px rgba(60, 64, 67, 0.15);\n",
              "      fill: #174EA6;\n",
              "    }\n",
              "\n",
              "    .colab-df-buttons div {\n",
              "      margin-bottom: 4px;\n",
              "    }\n",
              "\n",
              "    [theme=dark] .colab-df-convert {\n",
              "      background-color: #3B4455;\n",
              "      fill: #D2E3FC;\n",
              "    }\n",
              "\n",
              "    [theme=dark] .colab-df-convert:hover {\n",
              "      background-color: #434B5C;\n",
              "      box-shadow: 0px 1px 3px 1px rgba(0, 0, 0, 0.15);\n",
              "      filter: drop-shadow(0px 1px 2px rgba(0, 0, 0, 0.3));\n",
              "      fill: #FFFFFF;\n",
              "    }\n",
              "  </style>\n",
              "\n",
              "    <script>\n",
              "      const buttonEl =\n",
              "        document.querySelector('#df-c4cbc36e-9487-47c7-a180-decd09dc9aa1 button.colab-df-convert');\n",
              "      buttonEl.style.display =\n",
              "        google.colab.kernel.accessAllowed ? 'block' : 'none';\n",
              "\n",
              "      async function convertToInteractive(key) {\n",
              "        const element = document.querySelector('#df-c4cbc36e-9487-47c7-a180-decd09dc9aa1');\n",
              "        const dataTable =\n",
              "          await google.colab.kernel.invokeFunction('convertToInteractive',\n",
              "                                                    [key], {});\n",
              "        if (!dataTable) return;\n",
              "\n",
              "        const docLinkHtml = 'Like what you see? Visit the ' +\n",
              "          '<a target=\"_blank\" href=https://colab.research.google.com/notebooks/data_table.ipynb>data table notebook</a>'\n",
              "          + ' to learn more about interactive tables.';\n",
              "        element.innerHTML = '';\n",
              "        dataTable['output_type'] = 'display_data';\n",
              "        await google.colab.output.renderOutput(dataTable, element);\n",
              "        const docLink = document.createElement('div');\n",
              "        docLink.innerHTML = docLinkHtml;\n",
              "        element.appendChild(docLink);\n",
              "      }\n",
              "    </script>\n",
              "  </div>\n",
              "\n",
              "\n",
              "<div id=\"df-0fb61951-a569-42c7-a2ea-9b4cea9c33f2\">\n",
              "  <button class=\"colab-df-quickchart\" onclick=\"quickchart('df-0fb61951-a569-42c7-a2ea-9b4cea9c33f2')\"\n",
              "            title=\"Suggest charts\"\n",
              "            style=\"display:none;\">\n",
              "\n",
              "<svg xmlns=\"http://www.w3.org/2000/svg\" height=\"24px\"viewBox=\"0 0 24 24\"\n",
              "     width=\"24px\">\n",
              "    <g>\n",
              "        <path d=\"M19 3H5c-1.1 0-2 .9-2 2v14c0 1.1.9 2 2 2h14c1.1 0 2-.9 2-2V5c0-1.1-.9-2-2-2zM9 17H7v-7h2v7zm4 0h-2V7h2v10zm4 0h-2v-4h2v4z\"/>\n",
              "    </g>\n",
              "</svg>\n",
              "  </button>\n",
              "\n",
              "<style>\n",
              "  .colab-df-quickchart {\n",
              "      --bg-color: #E8F0FE;\n",
              "      --fill-color: #1967D2;\n",
              "      --hover-bg-color: #E2EBFA;\n",
              "      --hover-fill-color: #174EA6;\n",
              "      --disabled-fill-color: #AAA;\n",
              "      --disabled-bg-color: #DDD;\n",
              "  }\n",
              "\n",
              "  [theme=dark] .colab-df-quickchart {\n",
              "      --bg-color: #3B4455;\n",
              "      --fill-color: #D2E3FC;\n",
              "      --hover-bg-color: #434B5C;\n",
              "      --hover-fill-color: #FFFFFF;\n",
              "      --disabled-bg-color: #3B4455;\n",
              "      --disabled-fill-color: #666;\n",
              "  }\n",
              "\n",
              "  .colab-df-quickchart {\n",
              "    background-color: var(--bg-color);\n",
              "    border: none;\n",
              "    border-radius: 50%;\n",
              "    cursor: pointer;\n",
              "    display: none;\n",
              "    fill: var(--fill-color);\n",
              "    height: 32px;\n",
              "    padding: 0;\n",
              "    width: 32px;\n",
              "  }\n",
              "\n",
              "  .colab-df-quickchart:hover {\n",
              "    background-color: var(--hover-bg-color);\n",
              "    box-shadow: 0 1px 2px rgba(60, 64, 67, 0.3), 0 1px 3px 1px rgba(60, 64, 67, 0.15);\n",
              "    fill: var(--button-hover-fill-color);\n",
              "  }\n",
              "\n",
              "  .colab-df-quickchart-complete:disabled,\n",
              "  .colab-df-quickchart-complete:disabled:hover {\n",
              "    background-color: var(--disabled-bg-color);\n",
              "    fill: var(--disabled-fill-color);\n",
              "    box-shadow: none;\n",
              "  }\n",
              "\n",
              "  .colab-df-spinner {\n",
              "    border: 2px solid var(--fill-color);\n",
              "    border-color: transparent;\n",
              "    border-bottom-color: var(--fill-color);\n",
              "    animation:\n",
              "      spin 1s steps(1) infinite;\n",
              "  }\n",
              "\n",
              "  @keyframes spin {\n",
              "    0% {\n",
              "      border-color: transparent;\n",
              "      border-bottom-color: var(--fill-color);\n",
              "      border-left-color: var(--fill-color);\n",
              "    }\n",
              "    20% {\n",
              "      border-color: transparent;\n",
              "      border-left-color: var(--fill-color);\n",
              "      border-top-color: var(--fill-color);\n",
              "    }\n",
              "    30% {\n",
              "      border-color: transparent;\n",
              "      border-left-color: var(--fill-color);\n",
              "      border-top-color: var(--fill-color);\n",
              "      border-right-color: var(--fill-color);\n",
              "    }\n",
              "    40% {\n",
              "      border-color: transparent;\n",
              "      border-right-color: var(--fill-color);\n",
              "      border-top-color: var(--fill-color);\n",
              "    }\n",
              "    60% {\n",
              "      border-color: transparent;\n",
              "      border-right-color: var(--fill-color);\n",
              "    }\n",
              "    80% {\n",
              "      border-color: transparent;\n",
              "      border-right-color: var(--fill-color);\n",
              "      border-bottom-color: var(--fill-color);\n",
              "    }\n",
              "    90% {\n",
              "      border-color: transparent;\n",
              "      border-bottom-color: var(--fill-color);\n",
              "    }\n",
              "  }\n",
              "</style>\n",
              "\n",
              "  <script>\n",
              "    async function quickchart(key) {\n",
              "      const quickchartButtonEl =\n",
              "        document.querySelector('#' + key + ' button');\n",
              "      quickchartButtonEl.disabled = true;  // To prevent multiple clicks.\n",
              "      quickchartButtonEl.classList.add('colab-df-spinner');\n",
              "      try {\n",
              "        const charts = await google.colab.kernel.invokeFunction(\n",
              "            'suggestCharts', [key], {});\n",
              "      } catch (error) {\n",
              "        console.error('Error during call to suggestCharts:', error);\n",
              "      }\n",
              "      quickchartButtonEl.classList.remove('colab-df-spinner');\n",
              "      quickchartButtonEl.classList.add('colab-df-quickchart-complete');\n",
              "    }\n",
              "    (() => {\n",
              "      let quickchartButtonEl =\n",
              "        document.querySelector('#df-0fb61951-a569-42c7-a2ea-9b4cea9c33f2 button');\n",
              "      quickchartButtonEl.style.display =\n",
              "        google.colab.kernel.accessAllowed ? 'block' : 'none';\n",
              "    })();\n",
              "  </script>\n",
              "</div>\n",
              "\n",
              "    </div>\n",
              "  </div>\n"
            ],
            "application/vnd.google.colaboratory.intrinsic+json": {
              "type": "dataframe",
              "variable_name": "price",
              "summary": "{\n  \"name\": \"price\",\n  \"rows\": 5852,\n  \"fields\": [\n    {\n      \"column\": \"Date\",\n      \"properties\": {\n        \"dtype\": \"object\",\n        \"num_unique_values\": 5852,\n        \"samples\": [\n          \"2010-06-08\",\n          \"2008-10-20\",\n          \"2009-04-14\"\n        ],\n        \"semantic_type\": \"\",\n        \"description\": \"\"\n      }\n    },\n    {\n      \"column\": \"Open\",\n      \"properties\": {\n        \"dtype\": \"number\",\n        \"std\": 596.2910326427937,\n        \"min\": 1.40625,\n        \"max\": 3251.060059,\n        \"num_unique_values\": 5164,\n        \"samples\": [\n          43.93,\n          34.599998,\n          762.0\n        ],\n        \"semantic_type\": \"\",\n        \"description\": \"\"\n      }\n    },\n    {\n      \"column\": \"High\",\n      \"properties\": {\n        \"dtype\": \"number\",\n        \"std\": 602.615298889896,\n        \"min\": 1.447917,\n        \"max\": 3344.290039,\n        \"num_unique_values\": 5108,\n        \"samples\": [\n          313.290009,\n          44.130001,\n          46.490002\n        ],\n        \"semantic_type\": \"\",\n        \"description\": \"\"\n      }\n    },\n    {\n      \"column\": \"Low\",\n      \"properties\": {\n        \"dtype\": \"number\",\n        \"std\": 589.2266936416613,\n        \"min\": 1.3125,\n        \"max\": 3165.429932,\n        \"num_unique_values\": 5113,\n        \"samples\": [\n          1355.0,\n          132.869995,\n          41.389999\n        ],\n        \"semantic_type\": \"\",\n        \"description\": \"\"\n      }\n    },\n    {\n      \"column\": \"Close\",\n      \"properties\": {\n        \"dtype\": \"number\",\n        \"std\": 596.2874644326029,\n        \"min\": 1.395833,\n        \"max\": 3225.0,\n        \"num_unique_values\": 5242,\n        \"samples\": [\n          32.610001,\n          310.890015,\n          18.940001\n        ],\n        \"semantic_type\": \"\",\n        \"description\": \"\"\n      }\n    },\n    {\n      \"column\": \"Adj Close\",\n      \"properties\": {\n        \"dtype\": \"number\",\n        \"std\": 596.2874644326029,\n        \"min\": 1.395833,\n        \"max\": 3225.0,\n        \"num_unique_values\": 5242,\n        \"samples\": [\n          32.610001,\n          310.890015,\n          18.940001\n        ],\n        \"semantic_type\": \"\",\n        \"description\": \"\"\n      }\n    },\n    {\n      \"column\": \"Volume\",\n      \"properties\": {\n        \"dtype\": \"number\",\n        \"std\": 7278144,\n        \"min\": 487200,\n        \"max\": 104329200,\n        \"num_unique_values\": 5701,\n        \"samples\": [\n          4169800,\n          5580800,\n          6640900\n        ],\n        \"semantic_type\": \"\",\n        \"description\": \"\"\n      }\n    }\n  ]\n}"
            }
          },
          "metadata": {},
          "execution_count": 144
        }
      ]
    },
    {
      "cell_type": "code",
      "source": [
        "# Last 5 rows\n",
        "price.tail()"
      ],
      "metadata": {
        "colab": {
          "base_uri": "https://localhost:8080/",
          "height": 206
        },
        "id": "DZC0Yikb9-rz",
        "outputId": "eb73d871-8d95-41f9-892b-c741b05f04d5"
      },
      "execution_count": 145,
      "outputs": [
        {
          "output_type": "execute_result",
          "data": {
            "text/plain": [
              "            Date         Open         High          Low        Close  \\\n",
              "5847  2020-08-10  3170.310059  3172.510010  3101.520020  3148.159912   \n",
              "5848  2020-08-11  3113.199951  3159.219971  3073.000000  3080.669922   \n",
              "5849  2020-08-12  3108.000000  3174.389893  3101.419922  3162.239990   \n",
              "5850  2020-08-13  3182.989990  3217.520020  3155.000000  3161.020020   \n",
              "5851  2020-08-14  3178.179932  3178.239990  3120.000000  3148.020020   \n",
              "\n",
              "        Adj Close   Volume  \n",
              "5847  3148.159912  3167300  \n",
              "5848  3080.669922  3718100  \n",
              "5849  3162.239990  3527200  \n",
              "5850  3161.020020  3149000  \n",
              "5851  3148.020020  2749200  "
            ],
            "text/html": [
              "\n",
              "  <div id=\"df-679ac54e-5dc4-481f-8576-963e90ebf5d0\" class=\"colab-df-container\">\n",
              "    <div>\n",
              "<style scoped>\n",
              "    .dataframe tbody tr th:only-of-type {\n",
              "        vertical-align: middle;\n",
              "    }\n",
              "\n",
              "    .dataframe tbody tr th {\n",
              "        vertical-align: top;\n",
              "    }\n",
              "\n",
              "    .dataframe thead th {\n",
              "        text-align: right;\n",
              "    }\n",
              "</style>\n",
              "<table border=\"1\" class=\"dataframe\">\n",
              "  <thead>\n",
              "    <tr style=\"text-align: right;\">\n",
              "      <th></th>\n",
              "      <th>Date</th>\n",
              "      <th>Open</th>\n",
              "      <th>High</th>\n",
              "      <th>Low</th>\n",
              "      <th>Close</th>\n",
              "      <th>Adj Close</th>\n",
              "      <th>Volume</th>\n",
              "    </tr>\n",
              "  </thead>\n",
              "  <tbody>\n",
              "    <tr>\n",
              "      <th>5847</th>\n",
              "      <td>2020-08-10</td>\n",
              "      <td>3170.310059</td>\n",
              "      <td>3172.510010</td>\n",
              "      <td>3101.520020</td>\n",
              "      <td>3148.159912</td>\n",
              "      <td>3148.159912</td>\n",
              "      <td>3167300</td>\n",
              "    </tr>\n",
              "    <tr>\n",
              "      <th>5848</th>\n",
              "      <td>2020-08-11</td>\n",
              "      <td>3113.199951</td>\n",
              "      <td>3159.219971</td>\n",
              "      <td>3073.000000</td>\n",
              "      <td>3080.669922</td>\n",
              "      <td>3080.669922</td>\n",
              "      <td>3718100</td>\n",
              "    </tr>\n",
              "    <tr>\n",
              "      <th>5849</th>\n",
              "      <td>2020-08-12</td>\n",
              "      <td>3108.000000</td>\n",
              "      <td>3174.389893</td>\n",
              "      <td>3101.419922</td>\n",
              "      <td>3162.239990</td>\n",
              "      <td>3162.239990</td>\n",
              "      <td>3527200</td>\n",
              "    </tr>\n",
              "    <tr>\n",
              "      <th>5850</th>\n",
              "      <td>2020-08-13</td>\n",
              "      <td>3182.989990</td>\n",
              "      <td>3217.520020</td>\n",
              "      <td>3155.000000</td>\n",
              "      <td>3161.020020</td>\n",
              "      <td>3161.020020</td>\n",
              "      <td>3149000</td>\n",
              "    </tr>\n",
              "    <tr>\n",
              "      <th>5851</th>\n",
              "      <td>2020-08-14</td>\n",
              "      <td>3178.179932</td>\n",
              "      <td>3178.239990</td>\n",
              "      <td>3120.000000</td>\n",
              "      <td>3148.020020</td>\n",
              "      <td>3148.020020</td>\n",
              "      <td>2749200</td>\n",
              "    </tr>\n",
              "  </tbody>\n",
              "</table>\n",
              "</div>\n",
              "    <div class=\"colab-df-buttons\">\n",
              "\n",
              "  <div class=\"colab-df-container\">\n",
              "    <button class=\"colab-df-convert\" onclick=\"convertToInteractive('df-679ac54e-5dc4-481f-8576-963e90ebf5d0')\"\n",
              "            title=\"Convert this dataframe to an interactive table.\"\n",
              "            style=\"display:none;\">\n",
              "\n",
              "  <svg xmlns=\"http://www.w3.org/2000/svg\" height=\"24px\" viewBox=\"0 -960 960 960\">\n",
              "    <path d=\"M120-120v-720h720v720H120Zm60-500h600v-160H180v160Zm220 220h160v-160H400v160Zm0 220h160v-160H400v160ZM180-400h160v-160H180v160Zm440 0h160v-160H620v160ZM180-180h160v-160H180v160Zm440 0h160v-160H620v160Z\"/>\n",
              "  </svg>\n",
              "    </button>\n",
              "\n",
              "  <style>\n",
              "    .colab-df-container {\n",
              "      display:flex;\n",
              "      gap: 12px;\n",
              "    }\n",
              "\n",
              "    .colab-df-convert {\n",
              "      background-color: #E8F0FE;\n",
              "      border: none;\n",
              "      border-radius: 50%;\n",
              "      cursor: pointer;\n",
              "      display: none;\n",
              "      fill: #1967D2;\n",
              "      height: 32px;\n",
              "      padding: 0 0 0 0;\n",
              "      width: 32px;\n",
              "    }\n",
              "\n",
              "    .colab-df-convert:hover {\n",
              "      background-color: #E2EBFA;\n",
              "      box-shadow: 0px 1px 2px rgba(60, 64, 67, 0.3), 0px 1px 3px 1px rgba(60, 64, 67, 0.15);\n",
              "      fill: #174EA6;\n",
              "    }\n",
              "\n",
              "    .colab-df-buttons div {\n",
              "      margin-bottom: 4px;\n",
              "    }\n",
              "\n",
              "    [theme=dark] .colab-df-convert {\n",
              "      background-color: #3B4455;\n",
              "      fill: #D2E3FC;\n",
              "    }\n",
              "\n",
              "    [theme=dark] .colab-df-convert:hover {\n",
              "      background-color: #434B5C;\n",
              "      box-shadow: 0px 1px 3px 1px rgba(0, 0, 0, 0.15);\n",
              "      filter: drop-shadow(0px 1px 2px rgba(0, 0, 0, 0.3));\n",
              "      fill: #FFFFFF;\n",
              "    }\n",
              "  </style>\n",
              "\n",
              "    <script>\n",
              "      const buttonEl =\n",
              "        document.querySelector('#df-679ac54e-5dc4-481f-8576-963e90ebf5d0 button.colab-df-convert');\n",
              "      buttonEl.style.display =\n",
              "        google.colab.kernel.accessAllowed ? 'block' : 'none';\n",
              "\n",
              "      async function convertToInteractive(key) {\n",
              "        const element = document.querySelector('#df-679ac54e-5dc4-481f-8576-963e90ebf5d0');\n",
              "        const dataTable =\n",
              "          await google.colab.kernel.invokeFunction('convertToInteractive',\n",
              "                                                    [key], {});\n",
              "        if (!dataTable) return;\n",
              "\n",
              "        const docLinkHtml = 'Like what you see? Visit the ' +\n",
              "          '<a target=\"_blank\" href=https://colab.research.google.com/notebooks/data_table.ipynb>data table notebook</a>'\n",
              "          + ' to learn more about interactive tables.';\n",
              "        element.innerHTML = '';\n",
              "        dataTable['output_type'] = 'display_data';\n",
              "        await google.colab.output.renderOutput(dataTable, element);\n",
              "        const docLink = document.createElement('div');\n",
              "        docLink.innerHTML = docLinkHtml;\n",
              "        element.appendChild(docLink);\n",
              "      }\n",
              "    </script>\n",
              "  </div>\n",
              "\n",
              "\n",
              "<div id=\"df-29e2c41a-d54f-4245-b97c-7d211b83ac3b\">\n",
              "  <button class=\"colab-df-quickchart\" onclick=\"quickchart('df-29e2c41a-d54f-4245-b97c-7d211b83ac3b')\"\n",
              "            title=\"Suggest charts\"\n",
              "            style=\"display:none;\">\n",
              "\n",
              "<svg xmlns=\"http://www.w3.org/2000/svg\" height=\"24px\"viewBox=\"0 0 24 24\"\n",
              "     width=\"24px\">\n",
              "    <g>\n",
              "        <path d=\"M19 3H5c-1.1 0-2 .9-2 2v14c0 1.1.9 2 2 2h14c1.1 0 2-.9 2-2V5c0-1.1-.9-2-2-2zM9 17H7v-7h2v7zm4 0h-2V7h2v10zm4 0h-2v-4h2v4z\"/>\n",
              "    </g>\n",
              "</svg>\n",
              "  </button>\n",
              "\n",
              "<style>\n",
              "  .colab-df-quickchart {\n",
              "      --bg-color: #E8F0FE;\n",
              "      --fill-color: #1967D2;\n",
              "      --hover-bg-color: #E2EBFA;\n",
              "      --hover-fill-color: #174EA6;\n",
              "      --disabled-fill-color: #AAA;\n",
              "      --disabled-bg-color: #DDD;\n",
              "  }\n",
              "\n",
              "  [theme=dark] .colab-df-quickchart {\n",
              "      --bg-color: #3B4455;\n",
              "      --fill-color: #D2E3FC;\n",
              "      --hover-bg-color: #434B5C;\n",
              "      --hover-fill-color: #FFFFFF;\n",
              "      --disabled-bg-color: #3B4455;\n",
              "      --disabled-fill-color: #666;\n",
              "  }\n",
              "\n",
              "  .colab-df-quickchart {\n",
              "    background-color: var(--bg-color);\n",
              "    border: none;\n",
              "    border-radius: 50%;\n",
              "    cursor: pointer;\n",
              "    display: none;\n",
              "    fill: var(--fill-color);\n",
              "    height: 32px;\n",
              "    padding: 0;\n",
              "    width: 32px;\n",
              "  }\n",
              "\n",
              "  .colab-df-quickchart:hover {\n",
              "    background-color: var(--hover-bg-color);\n",
              "    box-shadow: 0 1px 2px rgba(60, 64, 67, 0.3), 0 1px 3px 1px rgba(60, 64, 67, 0.15);\n",
              "    fill: var(--button-hover-fill-color);\n",
              "  }\n",
              "\n",
              "  .colab-df-quickchart-complete:disabled,\n",
              "  .colab-df-quickchart-complete:disabled:hover {\n",
              "    background-color: var(--disabled-bg-color);\n",
              "    fill: var(--disabled-fill-color);\n",
              "    box-shadow: none;\n",
              "  }\n",
              "\n",
              "  .colab-df-spinner {\n",
              "    border: 2px solid var(--fill-color);\n",
              "    border-color: transparent;\n",
              "    border-bottom-color: var(--fill-color);\n",
              "    animation:\n",
              "      spin 1s steps(1) infinite;\n",
              "  }\n",
              "\n",
              "  @keyframes spin {\n",
              "    0% {\n",
              "      border-color: transparent;\n",
              "      border-bottom-color: var(--fill-color);\n",
              "      border-left-color: var(--fill-color);\n",
              "    }\n",
              "    20% {\n",
              "      border-color: transparent;\n",
              "      border-left-color: var(--fill-color);\n",
              "      border-top-color: var(--fill-color);\n",
              "    }\n",
              "    30% {\n",
              "      border-color: transparent;\n",
              "      border-left-color: var(--fill-color);\n",
              "      border-top-color: var(--fill-color);\n",
              "      border-right-color: var(--fill-color);\n",
              "    }\n",
              "    40% {\n",
              "      border-color: transparent;\n",
              "      border-right-color: var(--fill-color);\n",
              "      border-top-color: var(--fill-color);\n",
              "    }\n",
              "    60% {\n",
              "      border-color: transparent;\n",
              "      border-right-color: var(--fill-color);\n",
              "    }\n",
              "    80% {\n",
              "      border-color: transparent;\n",
              "      border-right-color: var(--fill-color);\n",
              "      border-bottom-color: var(--fill-color);\n",
              "    }\n",
              "    90% {\n",
              "      border-color: transparent;\n",
              "      border-bottom-color: var(--fill-color);\n",
              "    }\n",
              "  }\n",
              "</style>\n",
              "\n",
              "  <script>\n",
              "    async function quickchart(key) {\n",
              "      const quickchartButtonEl =\n",
              "        document.querySelector('#' + key + ' button');\n",
              "      quickchartButtonEl.disabled = true;  // To prevent multiple clicks.\n",
              "      quickchartButtonEl.classList.add('colab-df-spinner');\n",
              "      try {\n",
              "        const charts = await google.colab.kernel.invokeFunction(\n",
              "            'suggestCharts', [key], {});\n",
              "      } catch (error) {\n",
              "        console.error('Error during call to suggestCharts:', error);\n",
              "      }\n",
              "      quickchartButtonEl.classList.remove('colab-df-spinner');\n",
              "      quickchartButtonEl.classList.add('colab-df-quickchart-complete');\n",
              "    }\n",
              "    (() => {\n",
              "      let quickchartButtonEl =\n",
              "        document.querySelector('#df-29e2c41a-d54f-4245-b97c-7d211b83ac3b button');\n",
              "      quickchartButtonEl.style.display =\n",
              "        google.colab.kernel.accessAllowed ? 'block' : 'none';\n",
              "    })();\n",
              "  </script>\n",
              "</div>\n",
              "\n",
              "    </div>\n",
              "  </div>\n"
            ],
            "application/vnd.google.colaboratory.intrinsic+json": {
              "type": "dataframe",
              "repr_error": "0"
            }
          },
          "metadata": {},
          "execution_count": 145
        }
      ]
    },
    {
      "cell_type": "code",
      "source": [
        "# Summary\n",
        "price.describe()"
      ],
      "metadata": {
        "colab": {
          "base_uri": "https://localhost:8080/",
          "height": 300
        },
        "id": "9jtojbXH-F20",
        "outputId": "02aaf6ae-2bbd-41a1-e883-6fd0fb20e80a"
      },
      "execution_count": 146,
      "outputs": [
        {
          "output_type": "execute_result",
          "data": {
            "text/plain": [
              "              Open         High          Low        Close    Adj Close  \\\n",
              "count  5852.000000  5852.000000  5852.000000  5852.000000  5852.000000   \n",
              "mean    377.469557   381.737827   372.815253   377.500736   377.500736   \n",
              "std     596.291033   602.615299   589.226694   596.287464   596.287464   \n",
              "min       1.406250     1.447917     1.312500     1.395833     1.395833   \n",
              "25%      37.995000    38.590000    37.247501    37.950001    37.950001   \n",
              "50%      83.699997    85.029999    82.055000    83.602501    83.602501   \n",
              "75%     360.852501   365.794991   357.877510   362.217506   362.217506   \n",
              "max    3251.060059  3344.290039  3165.429932  3225.000000  3225.000000   \n",
              "\n",
              "             Volume  \n",
              "count  5.852000e+03  \n",
              "mean   7.512673e+06  \n",
              "std    7.278144e+06  \n",
              "min    4.872000e+05  \n",
              "25%    3.681975e+06  \n",
              "50%    5.652850e+06  \n",
              "75%    8.517450e+06  \n",
              "max    1.043292e+08  "
            ],
            "text/html": [
              "\n",
              "  <div id=\"df-0e2d3c64-4a77-4c42-999a-23a70f2f9991\" class=\"colab-df-container\">\n",
              "    <div>\n",
              "<style scoped>\n",
              "    .dataframe tbody tr th:only-of-type {\n",
              "        vertical-align: middle;\n",
              "    }\n",
              "\n",
              "    .dataframe tbody tr th {\n",
              "        vertical-align: top;\n",
              "    }\n",
              "\n",
              "    .dataframe thead th {\n",
              "        text-align: right;\n",
              "    }\n",
              "</style>\n",
              "<table border=\"1\" class=\"dataframe\">\n",
              "  <thead>\n",
              "    <tr style=\"text-align: right;\">\n",
              "      <th></th>\n",
              "      <th>Open</th>\n",
              "      <th>High</th>\n",
              "      <th>Low</th>\n",
              "      <th>Close</th>\n",
              "      <th>Adj Close</th>\n",
              "      <th>Volume</th>\n",
              "    </tr>\n",
              "  </thead>\n",
              "  <tbody>\n",
              "    <tr>\n",
              "      <th>count</th>\n",
              "      <td>5852.000000</td>\n",
              "      <td>5852.000000</td>\n",
              "      <td>5852.000000</td>\n",
              "      <td>5852.000000</td>\n",
              "      <td>5852.000000</td>\n",
              "      <td>5.852000e+03</td>\n",
              "    </tr>\n",
              "    <tr>\n",
              "      <th>mean</th>\n",
              "      <td>377.469557</td>\n",
              "      <td>381.737827</td>\n",
              "      <td>372.815253</td>\n",
              "      <td>377.500736</td>\n",
              "      <td>377.500736</td>\n",
              "      <td>7.512673e+06</td>\n",
              "    </tr>\n",
              "    <tr>\n",
              "      <th>std</th>\n",
              "      <td>596.291033</td>\n",
              "      <td>602.615299</td>\n",
              "      <td>589.226694</td>\n",
              "      <td>596.287464</td>\n",
              "      <td>596.287464</td>\n",
              "      <td>7.278144e+06</td>\n",
              "    </tr>\n",
              "    <tr>\n",
              "      <th>min</th>\n",
              "      <td>1.406250</td>\n",
              "      <td>1.447917</td>\n",
              "      <td>1.312500</td>\n",
              "      <td>1.395833</td>\n",
              "      <td>1.395833</td>\n",
              "      <td>4.872000e+05</td>\n",
              "    </tr>\n",
              "    <tr>\n",
              "      <th>25%</th>\n",
              "      <td>37.995000</td>\n",
              "      <td>38.590000</td>\n",
              "      <td>37.247501</td>\n",
              "      <td>37.950001</td>\n",
              "      <td>37.950001</td>\n",
              "      <td>3.681975e+06</td>\n",
              "    </tr>\n",
              "    <tr>\n",
              "      <th>50%</th>\n",
              "      <td>83.699997</td>\n",
              "      <td>85.029999</td>\n",
              "      <td>82.055000</td>\n",
              "      <td>83.602501</td>\n",
              "      <td>83.602501</td>\n",
              "      <td>5.652850e+06</td>\n",
              "    </tr>\n",
              "    <tr>\n",
              "      <th>75%</th>\n",
              "      <td>360.852501</td>\n",
              "      <td>365.794991</td>\n",
              "      <td>357.877510</td>\n",
              "      <td>362.217506</td>\n",
              "      <td>362.217506</td>\n",
              "      <td>8.517450e+06</td>\n",
              "    </tr>\n",
              "    <tr>\n",
              "      <th>max</th>\n",
              "      <td>3251.060059</td>\n",
              "      <td>3344.290039</td>\n",
              "      <td>3165.429932</td>\n",
              "      <td>3225.000000</td>\n",
              "      <td>3225.000000</td>\n",
              "      <td>1.043292e+08</td>\n",
              "    </tr>\n",
              "  </tbody>\n",
              "</table>\n",
              "</div>\n",
              "    <div class=\"colab-df-buttons\">\n",
              "\n",
              "  <div class=\"colab-df-container\">\n",
              "    <button class=\"colab-df-convert\" onclick=\"convertToInteractive('df-0e2d3c64-4a77-4c42-999a-23a70f2f9991')\"\n",
              "            title=\"Convert this dataframe to an interactive table.\"\n",
              "            style=\"display:none;\">\n",
              "\n",
              "  <svg xmlns=\"http://www.w3.org/2000/svg\" height=\"24px\" viewBox=\"0 -960 960 960\">\n",
              "    <path d=\"M120-120v-720h720v720H120Zm60-500h600v-160H180v160Zm220 220h160v-160H400v160Zm0 220h160v-160H400v160ZM180-400h160v-160H180v160Zm440 0h160v-160H620v160ZM180-180h160v-160H180v160Zm440 0h160v-160H620v160Z\"/>\n",
              "  </svg>\n",
              "    </button>\n",
              "\n",
              "  <style>\n",
              "    .colab-df-container {\n",
              "      display:flex;\n",
              "      gap: 12px;\n",
              "    }\n",
              "\n",
              "    .colab-df-convert {\n",
              "      background-color: #E8F0FE;\n",
              "      border: none;\n",
              "      border-radius: 50%;\n",
              "      cursor: pointer;\n",
              "      display: none;\n",
              "      fill: #1967D2;\n",
              "      height: 32px;\n",
              "      padding: 0 0 0 0;\n",
              "      width: 32px;\n",
              "    }\n",
              "\n",
              "    .colab-df-convert:hover {\n",
              "      background-color: #E2EBFA;\n",
              "      box-shadow: 0px 1px 2px rgba(60, 64, 67, 0.3), 0px 1px 3px 1px rgba(60, 64, 67, 0.15);\n",
              "      fill: #174EA6;\n",
              "    }\n",
              "\n",
              "    .colab-df-buttons div {\n",
              "      margin-bottom: 4px;\n",
              "    }\n",
              "\n",
              "    [theme=dark] .colab-df-convert {\n",
              "      background-color: #3B4455;\n",
              "      fill: #D2E3FC;\n",
              "    }\n",
              "\n",
              "    [theme=dark] .colab-df-convert:hover {\n",
              "      background-color: #434B5C;\n",
              "      box-shadow: 0px 1px 3px 1px rgba(0, 0, 0, 0.15);\n",
              "      filter: drop-shadow(0px 1px 2px rgba(0, 0, 0, 0.3));\n",
              "      fill: #FFFFFF;\n",
              "    }\n",
              "  </style>\n",
              "\n",
              "    <script>\n",
              "      const buttonEl =\n",
              "        document.querySelector('#df-0e2d3c64-4a77-4c42-999a-23a70f2f9991 button.colab-df-convert');\n",
              "      buttonEl.style.display =\n",
              "        google.colab.kernel.accessAllowed ? 'block' : 'none';\n",
              "\n",
              "      async function convertToInteractive(key) {\n",
              "        const element = document.querySelector('#df-0e2d3c64-4a77-4c42-999a-23a70f2f9991');\n",
              "        const dataTable =\n",
              "          await google.colab.kernel.invokeFunction('convertToInteractive',\n",
              "                                                    [key], {});\n",
              "        if (!dataTable) return;\n",
              "\n",
              "        const docLinkHtml = 'Like what you see? Visit the ' +\n",
              "          '<a target=\"_blank\" href=https://colab.research.google.com/notebooks/data_table.ipynb>data table notebook</a>'\n",
              "          + ' to learn more about interactive tables.';\n",
              "        element.innerHTML = '';\n",
              "        dataTable['output_type'] = 'display_data';\n",
              "        await google.colab.output.renderOutput(dataTable, element);\n",
              "        const docLink = document.createElement('div');\n",
              "        docLink.innerHTML = docLinkHtml;\n",
              "        element.appendChild(docLink);\n",
              "      }\n",
              "    </script>\n",
              "  </div>\n",
              "\n",
              "\n",
              "<div id=\"df-8b014518-ad11-41b9-b977-83ee3809ea21\">\n",
              "  <button class=\"colab-df-quickchart\" onclick=\"quickchart('df-8b014518-ad11-41b9-b977-83ee3809ea21')\"\n",
              "            title=\"Suggest charts\"\n",
              "            style=\"display:none;\">\n",
              "\n",
              "<svg xmlns=\"http://www.w3.org/2000/svg\" height=\"24px\"viewBox=\"0 0 24 24\"\n",
              "     width=\"24px\">\n",
              "    <g>\n",
              "        <path d=\"M19 3H5c-1.1 0-2 .9-2 2v14c0 1.1.9 2 2 2h14c1.1 0 2-.9 2-2V5c0-1.1-.9-2-2-2zM9 17H7v-7h2v7zm4 0h-2V7h2v10zm4 0h-2v-4h2v4z\"/>\n",
              "    </g>\n",
              "</svg>\n",
              "  </button>\n",
              "\n",
              "<style>\n",
              "  .colab-df-quickchart {\n",
              "      --bg-color: #E8F0FE;\n",
              "      --fill-color: #1967D2;\n",
              "      --hover-bg-color: #E2EBFA;\n",
              "      --hover-fill-color: #174EA6;\n",
              "      --disabled-fill-color: #AAA;\n",
              "      --disabled-bg-color: #DDD;\n",
              "  }\n",
              "\n",
              "  [theme=dark] .colab-df-quickchart {\n",
              "      --bg-color: #3B4455;\n",
              "      --fill-color: #D2E3FC;\n",
              "      --hover-bg-color: #434B5C;\n",
              "      --hover-fill-color: #FFFFFF;\n",
              "      --disabled-bg-color: #3B4455;\n",
              "      --disabled-fill-color: #666;\n",
              "  }\n",
              "\n",
              "  .colab-df-quickchart {\n",
              "    background-color: var(--bg-color);\n",
              "    border: none;\n",
              "    border-radius: 50%;\n",
              "    cursor: pointer;\n",
              "    display: none;\n",
              "    fill: var(--fill-color);\n",
              "    height: 32px;\n",
              "    padding: 0;\n",
              "    width: 32px;\n",
              "  }\n",
              "\n",
              "  .colab-df-quickchart:hover {\n",
              "    background-color: var(--hover-bg-color);\n",
              "    box-shadow: 0 1px 2px rgba(60, 64, 67, 0.3), 0 1px 3px 1px rgba(60, 64, 67, 0.15);\n",
              "    fill: var(--button-hover-fill-color);\n",
              "  }\n",
              "\n",
              "  .colab-df-quickchart-complete:disabled,\n",
              "  .colab-df-quickchart-complete:disabled:hover {\n",
              "    background-color: var(--disabled-bg-color);\n",
              "    fill: var(--disabled-fill-color);\n",
              "    box-shadow: none;\n",
              "  }\n",
              "\n",
              "  .colab-df-spinner {\n",
              "    border: 2px solid var(--fill-color);\n",
              "    border-color: transparent;\n",
              "    border-bottom-color: var(--fill-color);\n",
              "    animation:\n",
              "      spin 1s steps(1) infinite;\n",
              "  }\n",
              "\n",
              "  @keyframes spin {\n",
              "    0% {\n",
              "      border-color: transparent;\n",
              "      border-bottom-color: var(--fill-color);\n",
              "      border-left-color: var(--fill-color);\n",
              "    }\n",
              "    20% {\n",
              "      border-color: transparent;\n",
              "      border-left-color: var(--fill-color);\n",
              "      border-top-color: var(--fill-color);\n",
              "    }\n",
              "    30% {\n",
              "      border-color: transparent;\n",
              "      border-left-color: var(--fill-color);\n",
              "      border-top-color: var(--fill-color);\n",
              "      border-right-color: var(--fill-color);\n",
              "    }\n",
              "    40% {\n",
              "      border-color: transparent;\n",
              "      border-right-color: var(--fill-color);\n",
              "      border-top-color: var(--fill-color);\n",
              "    }\n",
              "    60% {\n",
              "      border-color: transparent;\n",
              "      border-right-color: var(--fill-color);\n",
              "    }\n",
              "    80% {\n",
              "      border-color: transparent;\n",
              "      border-right-color: var(--fill-color);\n",
              "      border-bottom-color: var(--fill-color);\n",
              "    }\n",
              "    90% {\n",
              "      border-color: transparent;\n",
              "      border-bottom-color: var(--fill-color);\n",
              "    }\n",
              "  }\n",
              "</style>\n",
              "\n",
              "  <script>\n",
              "    async function quickchart(key) {\n",
              "      const quickchartButtonEl =\n",
              "        document.querySelector('#' + key + ' button');\n",
              "      quickchartButtonEl.disabled = true;  // To prevent multiple clicks.\n",
              "      quickchartButtonEl.classList.add('colab-df-spinner');\n",
              "      try {\n",
              "        const charts = await google.colab.kernel.invokeFunction(\n",
              "            'suggestCharts', [key], {});\n",
              "      } catch (error) {\n",
              "        console.error('Error during call to suggestCharts:', error);\n",
              "      }\n",
              "      quickchartButtonEl.classList.remove('colab-df-spinner');\n",
              "      quickchartButtonEl.classList.add('colab-df-quickchart-complete');\n",
              "    }\n",
              "    (() => {\n",
              "      let quickchartButtonEl =\n",
              "        document.querySelector('#df-8b014518-ad11-41b9-b977-83ee3809ea21 button');\n",
              "      quickchartButtonEl.style.display =\n",
              "        google.colab.kernel.accessAllowed ? 'block' : 'none';\n",
              "    })();\n",
              "  </script>\n",
              "</div>\n",
              "\n",
              "    </div>\n",
              "  </div>\n"
            ],
            "application/vnd.google.colaboratory.intrinsic+json": {
              "type": "dataframe",
              "summary": "{\n  \"name\": \"price\",\n  \"rows\": 8,\n  \"fields\": [\n    {\n      \"column\": \"Open\",\n      \"properties\": {\n        \"dtype\": \"number\",\n        \"std\": 2121.682725108334,\n        \"min\": 1.40625,\n        \"max\": 5852.0,\n        \"num_unique_values\": 8,\n        \"samples\": [\n          377.4695570299043,\n          83.699997,\n          5852.0\n        ],\n        \"semantic_type\": \"\",\n        \"description\": \"\"\n      }\n    },\n    {\n      \"column\": \"High\",\n      \"properties\": {\n        \"dtype\": \"number\",\n        \"std\": 2132.953886152947,\n        \"min\": 1.447917,\n        \"max\": 5852.0,\n        \"num_unique_values\": 8,\n        \"samples\": [\n          381.7378271015038,\n          85.029999,\n          5852.0\n        ],\n        \"semantic_type\": \"\",\n        \"description\": \"\"\n      }\n    },\n    {\n      \"column\": \"Low\",\n      \"properties\": {\n        \"dtype\": \"number\",\n        \"std\": 2111.7731548207553,\n        \"min\": 1.3125,\n        \"max\": 5852.0,\n        \"num_unique_values\": 8,\n        \"samples\": [\n          372.8152529540328,\n          82.055,\n          5852.0\n        ],\n        \"semantic_type\": \"\",\n        \"description\": \"\"\n      }\n    },\n    {\n      \"column\": \"Close\",\n      \"properties\": {\n        \"dtype\": \"number\",\n        \"std\": 2118.2350014815247,\n        \"min\": 1.395833,\n        \"max\": 5852.0,\n        \"num_unique_values\": 8,\n        \"samples\": [\n          377.5007361527683,\n          83.60250099999999,\n          5852.0\n        ],\n        \"semantic_type\": \"\",\n        \"description\": \"\"\n      }\n    },\n    {\n      \"column\": \"Adj Close\",\n      \"properties\": {\n        \"dtype\": \"number\",\n        \"std\": 2118.2350014815247,\n        \"min\": 1.395833,\n        \"max\": 5852.0,\n        \"num_unique_values\": 8,\n        \"samples\": [\n          377.5007361527683,\n          83.60250099999999,\n          5852.0\n        ],\n        \"semantic_type\": \"\",\n        \"description\": \"\"\n      }\n    },\n    {\n      \"column\": \"Volume\",\n      \"properties\": {\n        \"dtype\": \"number\",\n        \"std\": 35355742.12416886,\n        \"min\": 5852.0,\n        \"max\": 104329200.0,\n        \"num_unique_values\": 8,\n        \"samples\": [\n          7512673.188653451,\n          5652850.0,\n          5852.0\n        ],\n        \"semantic_type\": \"\",\n        \"description\": \"\"\n      }\n    }\n  ]\n}"
            }
          },
          "metadata": {},
          "execution_count": 146
        }
      ]
    },
    {
      "cell_type": "markdown",
      "metadata": {
        "id": "zh8bXhN98PlZ"
      },
      "source": [
        "### Questions\n",
        "Write down Pandas instruction to answer these queries.\n",
        "- How many rows are in this dataset?\n",
        "- Do any datatypes need to be converted?\n",
        "- What was the mean and all time high opening stock price?"
      ]
    },
    {
      "cell_type": "markdown",
      "source": [
        "Q1: [2 points] How many rows are in this dataset?\n"
      ],
      "metadata": {
        "id": "-oCBYVx1vxS3"
      }
    },
    {
      "cell_type": "code",
      "source": [
        "#do not change the function name or number of parameters\n",
        "## Q1 Your function starts here\n",
        "def price_number_of_row():\n",
        "  return 0 ##replace this line with the return of the correct statement\n",
        "## Q1 Your function ends here - Any code outside of these start/end markers won't be graded"
      ],
      "metadata": {
        "id": "FnSWBsml6NdD"
      },
      "execution_count": 147,
      "outputs": []
    },
    {
      "cell_type": "markdown",
      "source": [
        "As an example, I will provide the answer to this question:"
      ],
      "metadata": {
        "id": "YSmKJrwt7jcc"
      }
    },
    {
      "cell_type": "code",
      "source": [
        "def price_number_of_row_key():\n",
        "  return price.shape[0];\n"
      ],
      "metadata": {
        "id": "MCIlu0wK64f7"
      },
      "execution_count": 148,
      "outputs": []
    },
    {
      "cell_type": "code",
      "source": [
        "print(price_number_of_row_key())"
      ],
      "metadata": {
        "id": "eY-52Ktz8Gp8",
        "colab": {
          "base_uri": "https://localhost:8080/"
        },
        "outputId": "8266eb6a-ac25-49ac-89cf-e6a0d77b29d5"
      },
      "execution_count": 149,
      "outputs": [
        {
          "output_type": "stream",
          "name": "stdout",
          "text": [
            "5852\n"
          ]
        }
      ]
    },
    {
      "cell_type": "markdown",
      "source": [
        "Question 2: [2 points] Convert the datatype of 'Date' to an appropriate type"
      ],
      "metadata": {
        "id": "uEIaffXC9Zga"
      }
    },
    {
      "cell_type": "code",
      "source": [
        "## Q2 Your function starts here\n",
        "def convert_date_type():\n",
        "  price['Date'] = pd.to_datetime(price['Date']) #replace this line with the correct state. You don't need to return\n",
        "## Q2 Your function ends here - Any code outside of these start/end markers won't be graded"
      ],
      "metadata": {
        "id": "_4E66yTS9v9J"
      },
      "execution_count": 150,
      "outputs": []
    },
    {
      "cell_type": "markdown",
      "source": [
        "I give you the grader statement for this one too:"
      ],
      "metadata": {
        "id": "igQuGDKN-nfd"
      }
    },
    {
      "cell_type": "code",
      "source": [
        "convert_date_type();\n",
        "print(price.Date.dtype);\n"
      ],
      "metadata": {
        "id": "YbJA0CF--gPF",
        "colab": {
          "base_uri": "https://localhost:8080/"
        },
        "outputId": "cec776f3-d721-4680-f4c0-6affcf6e4a0b"
      },
      "execution_count": 151,
      "outputs": [
        {
          "output_type": "stream",
          "name": "stdout",
          "text": [
            "datetime64[ns]\n"
          ]
        }
      ]
    },
    {
      "cell_type": "markdown",
      "source": [
        "Question 3: [2 points] What is the mean of all opening stock price?"
      ],
      "metadata": {
        "id": "ZCiXROjTCSpC"
      }
    },
    {
      "cell_type": "code",
      "source": [
        "## Q3 Your function starts here\n",
        "def mean_of_opening():\n",
        "  return price.describe().loc['mean']['Open']; #replace this with the correct statement\n",
        "## Q3 Your function ends here - Any code outside of these start/end markers won't be graded"
      ],
      "metadata": {
        "id": "q-336loqCP3i"
      },
      "execution_count": 152,
      "outputs": []
    },
    {
      "cell_type": "code",
      "source": [
        "print(mean_of_opening())"
      ],
      "metadata": {
        "id": "1hEhFO7DUcRW",
        "colab": {
          "base_uri": "https://localhost:8080/"
        },
        "outputId": "868f7c1b-4320-4ef9-af6e-c44252d06eab"
      },
      "execution_count": 153,
      "outputs": [
        {
          "output_type": "stream",
          "name": "stdout",
          "text": [
            "377.4695570299043\n"
          ]
        }
      ]
    },
    {
      "cell_type": "markdown",
      "source": [
        "Question 4: [4 points] What is the daily min volume for trades after 2010 (including 2010-1-1)"
      ],
      "metadata": {
        "id": "PpWzamKW8SoX"
      }
    },
    {
      "cell_type": "code",
      "source": [
        "## Q4 Your function starts here\n",
        "def min_daily_volume_after_2010():\n",
        "  price['Date'] = pd.to_datetime(price['Date'])\n",
        "  i = price[price['Date'] >= '2010-01-01']\n",
        "  min_volume = i['Volume'].min()\n",
        "\n",
        "  return min_volume\n",
        "## Q4 Your function ends here - Any code outside of these start/end markers won't be graded"
      ],
      "metadata": {
        "id": "IcvY-hi26qFi"
      },
      "execution_count": 154,
      "outputs": []
    },
    {
      "cell_type": "code",
      "source": [
        "print(min_daily_volume_after_2010())"
      ],
      "metadata": {
        "id": "oT90et_g97Md",
        "colab": {
          "base_uri": "https://localhost:8080/"
        },
        "outputId": "9bdbaacb-b4b8-4225-e160-e9d030be3d0b"
      },
      "execution_count": 155,
      "outputs": [
        {
          "output_type": "stream",
          "name": "stdout",
          "text": [
            "881300\n"
          ]
        }
      ]
    },
    {
      "cell_type": "markdown",
      "source": [
        "Question 5: [4 points] Make a new column called up_binom. The value of up_binom is 1 if the closing price of the stock is higher (>=) than opening price, and 0 otherwise. Then find the number days the stock closed higher than openning.\n"
      ],
      "metadata": {
        "id": "Q_eXV-yO-YO0"
      }
    },
    {
      "cell_type": "code",
      "source": [
        "## Q5 Your function starts here\n",
        "def number_of_green_days():\n",
        "  price['up_binom'] = np.where(price['Close'] >= price['Open'], 1, 0)\n",
        "  ct = 0\n",
        "  for i in price['up_binom']:\n",
        "    if i == 1:\n",
        "      ct += 1\n",
        "  return(ct)\n",
        "## Q5 Your function ends here - Any code outside of these start/end markers won't be graded"
      ],
      "metadata": {
        "id": "-NDzeA4j_Ese"
      },
      "execution_count": 156,
      "outputs": []
    },
    {
      "cell_type": "code",
      "source": [
        "print(number_of_green_days());"
      ],
      "metadata": {
        "id": "6PgiB6w2UilL",
        "colab": {
          "base_uri": "https://localhost:8080/"
        },
        "outputId": "9e7b6d6d-07ab-463f-fd10-87b785bdb979"
      },
      "execution_count": 157,
      "outputs": [
        {
          "output_type": "stream",
          "name": "stdout",
          "text": [
            "2964\n"
          ]
        }
      ]
    },
    {
      "cell_type": "markdown",
      "source": [
        "Question 6 [4 points] Write a function that plots the Closing price of the stock over the entire timeline of the dataset. The x-axis is day and the y-axis is the Closing price.\n",
        "Look at the examples here for more help https://matplotlib.org/stable/gallery/index.html)"
      ],
      "metadata": {
        "id": "CQ0DdBLo_tfe"
      }
    },
    {
      "cell_type": "code",
      "source": [
        "#plot\n",
        "## Q6 Your function starts here\n",
        "def plot_closing_price_after_2020():\n",
        "  #Add your code for your plot\n",
        "  plt.plot(price['Date'], price['Close'], color = \"purple\")\n",
        "  plt.title(\"Closing Price of Amazon\")\n",
        "  plt.xlabel(\"Date\")\n",
        "  plt.ylabel(\"Closing Price\")\n",
        "  plt.show()\n",
        "\n",
        "# function call to\n",
        "plot_closing_price_after_2020()\n",
        "## Q6 Your function ends here - Any code outside of these start/end markers won't be graded"
      ],
      "metadata": {
        "id": "prLQFrNuAbGp",
        "colab": {
          "base_uri": "https://localhost:8080/",
          "height": 472
        },
        "outputId": "d805bcc1-3718-48f5-e456-e01a80ddfad9"
      },
      "execution_count": 158,
      "outputs": [
        {
          "output_type": "display_data",
          "data": {
            "text/plain": [
              "<Figure size 640x480 with 1 Axes>"
            ],
            "image/png": "[encoded data removed]"
          },
          "metadata": {}
        }
      ]
    },
    {
      "cell_type": "markdown",
      "metadata": {
        "id": "qyCr9-KWDRMj"
      },
      "source": [
        "\n",
        "Question 7: [4 points] Word problem time!\n",
        "\n",
        "When I was 18 I had saved up $2000 washing dishes at a local restaurant to buy a new gaming rig (a cutting edge Pentium 5 :D). This was actually right around the start of this dataset. Let's say instead of buying that computer, I had put all that money into Amazon stock, what would my total profit have been if I'd sold all of my shares on the last day of the dataset?\n",
        "\n",
        "Let's say that I bought the shares at opening on Aug 1, 1997 and sold them at close on the last day of the dataset (don't assume that the dataset is sorted by date).\n",
        "\n",
        "Keep in mind that these are real world data and, as such, have constraints that you need to consider: e.g., you can only buy full shares and not fractions of shares. Also keep in mind that the question is about total **profit**, which should account for the money I spent on the shares. To keep things simple, your answer can (and should for ease of grading) include fractions of cents even though that wouldn't really be possible.\n",
        "\n",
        "Write a function ***market_value(buy_date, sell_date, starting_cash)*** that calculates the total profit from a number of shares bought at open of one date and sold at close of another date and use it to solve the word problem"
      ]
    },
    {
      "cell_type": "code",
      "source": [
        "# I'm going to make your life easier and set the date column you created as the index.\n",
        "# This will make searching and extracting the values much easier\n",
        "price = price.set_index('Date')"
      ],
      "metadata": {
        "id": "q1rSAU3_WHNZ"
      },
      "execution_count": 159,
      "outputs": []
    },
    {
      "cell_type": "code",
      "metadata": {
        "id": "c5Ar2LDdJGHr"
      },
      "source": [
        "## Q7 Your function starts here\n",
        "\n",
        "def market_value(buy_date, sell_date, starting_cash):\n",
        "    global price\n",
        "    price = price.reset_index()\n",
        "    price['Date'] = pd.to_datetime(price['Date'])\n",
        "    price = price.sort_values('Date')\n",
        "    price = price.set_index('Date')\n",
        "\n",
        "    buy = price.loc[buy_date]\n",
        "    sell = price.loc[sell_date]\n",
        "\n",
        "    shares_bought = starting_cash // buy['Open']\n",
        "\n",
        "    total_profit = (shares_bought * sell['Close']) - (shares_bought * buy['Open'])\n",
        "\n",
        "    return total_profit, shares_bought, buy['Open'], sell['Close']\n",
        "\n",
        "## Q7 Your function ends here - Any code outside of these start/end markers won't be graded"
      ],
      "execution_count": 167,
      "outputs": []
    },
    {
      "cell_type": "code",
      "source": [
        "last_date_in_dataset = price.index.max().strftime('%Y-%m-%d') # replace with code that finds the last date in the dataset\n",
        "print(market_value('1997-08-01', last_date_in_dataset, 2000))"
      ],
      "metadata": {
        "id": "GqwSNbqgaoAx",
        "colab": {
          "base_uri": "https://localhost:8080/"
        },
        "outputId": "ba127f4d-6734-432e-f4af-a02dfe534442"
      },
      "execution_count": 168,
      "outputs": [
        {
          "output_type": "stream",
          "name": "stdout",
          "text": [
            "(2683261.85831, 853.0, 2.34375, 3148.02002)\n"
          ]
        }
      ]
    },
    {
      "cell_type": "markdown",
      "metadata": {
        "id": "S96lJStTQuTR"
      },
      "source": [
        "## JSON\n",
        "\n",
        "The last part of the assignment will have you working with some basic JSON data.  The URL links to a JSON file with stats on every episode of the TV show Silicon Valley\n"
      ]
    },
    {
      "cell_type": "code",
      "metadata": {
        "id": "SuhZceOOQvwq"
      },
      "source": [
        "# First just run this to import the data\n",
        "import requests\n",
        "url = 'http://api.tvmaze.com/singlesearch/shows?q=Silicon Valley&embed=episodes'\n",
        "sv_json_obj = requests.get(url)\n",
        "sv_json = sv_json_obj.json()"
      ],
      "execution_count": null,
      "outputs": []
    },
    {
      "cell_type": "markdown",
      "metadata": {
        "id": "V6150nhdAdA0"
      },
      "source": [
        "### Viewing your JSON\n",
        "\n",
        "Now just to look at what's in the JSON a bit\n",
        "\n",
        "- Make a code cell that just calls the JSON we named above.\n",
        "- Also run the .keys() function on the object."
      ]
    },
    {
      "cell_type": "code",
      "source": [
        "# Calling JSON\n",
        "sv_json"
      ],
      "metadata": {
        "id": "QG2bl5Y7E9VR"
      },
      "execution_count": null,
      "outputs": []
    },
    {
      "cell_type": "code",
      "source": [
        "# Running the .keys() function\n",
        "sv_json.keys()"
      ],
      "metadata": {
        "id": "1gNVsvpzFPu5"
      },
      "execution_count": null,
      "outputs": []
    },
    {
      "cell_type": "markdown",
      "metadata": {
        "id": "brWt89epBk2M"
      },
      "source": [
        "### Questions\n",
        "\n",
        "Based on these responses, what keys are present in the JSON.  More importantly, are there any keys that don't get returned by .keys()?"
      ]
    },
    {
      "cell_type": "markdown",
      "source": [
        "Keys that are present:\n",
        "- ['id', 'url', 'name', 'type', 'language', 'genres', 'status', 'runtime', 'averageRuntime', 'premiered', 'ended', 'officialSite', 'schedule', 'rating', 'weight', 'network', 'webChannel', 'dvdCountry', 'externals', 'image', 'summary', 'updated', '_links', '_embedded']\n",
        "\n",
        "Keys that don't get returned:\n",
        "- Season\n",
        "- Number\n",
        "- Airdate\n",
        "- Airtime\n",
        "- Airstamp\n",
        "- Show"
      ],
      "metadata": {
        "id": "rwp3S8n3GmEr"
      }
    },
    {
      "cell_type": "code",
      "metadata": {
        "id": "ImsP-F-k_g9M"
      },
      "source": [
        "# First, you can see the structure after moving down a level into '_embedded'\n",
        "sv_json['_embedded']"
      ],
      "execution_count": null,
      "outputs": []
    },
    {
      "cell_type": "markdown",
      "source": [
        "Question 8: [4 points] Find the day that show premiered (ie the date that the very first episode first aired)."
      ],
      "metadata": {
        "id": "dWoI037MHNFY"
      }
    },
    {
      "cell_type": "code",
      "source": [
        "## Q8 Your function starts here\n",
        "def get_show_premiered():\n",
        "  return sv_json['_embedded']['episodes'][0]['airdate']\n",
        "## Q8 Your function ends here - Any code outside of these start/end markers won't be graded"
      ],
      "metadata": {
        "id": "KAuJ25ChFhEy"
      },
      "execution_count": null,
      "outputs": []
    },
    {
      "cell_type": "code",
      "source": [
        "print(get_show_premiered());"
      ],
      "metadata": {
        "id": "i63vUu_XWMJc"
      },
      "execution_count": null,
      "outputs": []
    },
    {
      "cell_type": "markdown",
      "source": [
        "Question 9: [4 points] Get the summary of a specific episode."
      ],
      "metadata": {
        "id": "i0xjtPM5HgMe"
      }
    },
    {
      "cell_type": "code",
      "source": [
        "## Q9 Your function starts here\n",
        "def get_summary(season, episode):\n",
        "  for i in range(len(sv_json['_embedded']['episodes'])):\n",
        "    if sv_json['_embedded']['episodes'][i]['season'] == season and sv_json['_embedded']['episodes'][i]['number'] == episode:\n",
        "      return sv_json['_embedded']['episodes'][i]['summary']\n",
        "## Q9 Your function ends here - Any code outside of these start/end markers won't be graded"
      ],
      "metadata": {
        "id": "32wqqo15HfbX"
      },
      "execution_count": null,
      "outputs": []
    },
    {
      "cell_type": "code",
      "source": [
        "print(get_summary(2,5))"
      ],
      "metadata": {
        "id": "2Dhhfm4FK4Mw"
      },
      "execution_count": null,
      "outputs": []
    }
  ]
}